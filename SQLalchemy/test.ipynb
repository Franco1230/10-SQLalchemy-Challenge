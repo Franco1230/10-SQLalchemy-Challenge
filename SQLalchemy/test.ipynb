{
 "cells": [
  {
   "cell_type": "code",
   "execution_count": 1,
   "metadata": {},
   "outputs": [],
   "source": [
    "import datetime as dt\n",
    "import numpy as np\n",
    "import pandas as pd\n",
    "\n",
    "import sqlalchemy\n",
    "\n",
    "from sqlalchemy.ext.automap import automap_base\n",
    "from sqlalchemy.orm import Session\n",
    "from sqlalchemy import create_engine, func\n",
    "from flask import Flask, jsonify, request\n",
    "from datetime import timedelta"
   ]
  },
  {
   "cell_type": "code",
   "execution_count": 2,
   "metadata": {},
   "outputs": [],
   "source": [
    "engine = create_engine(\"sqlite:///Resources/hawaii.sqlite\")\n",
    "\n",
    "# Reflect an existing database into a new model.\n",
    "Base = automap_base()\n",
    "\n",
    "# Reflect the tables.\n",
    "Base.prepare(engine, reflect = True)\n",
    "\n",
    "# Save reference to the tables.\n",
    "Measurement = Base.classes.measurement\n",
    "Station = Base.classes.station\n",
    "\n",
    "# Create session\n",
    "session = Session(engine)\n",
    "\n",
    "# Setup Flask\n",
    "app = Flask(__name__)"
   ]
  },
  {
   "cell_type": "code",
   "execution_count": 3,
   "metadata": {},
   "outputs": [],
   "source": [
    "def determine_temps_for_date_range(start, end):\n",
    "    \n",
    "    # Create our session (link) from Python to the DB.\n",
    "    session = Session(engine)\n",
    "\n",
    "    # If we have both a start date and an end date.\n",
    "    if end != None:\n",
    "        temperature_data = session.query(func.min(Measurement.tobs),\\\n",
    "                                         func.avg(Measurement.tobs),\\\n",
    "                                         func.max(Measurement.tobs)).\\\n",
    "                                         filter(Measurement.date >= start).\\\n",
    "                                         filter(Measurement.date <= end).all()\n",
    "    # If we only have a start date.\n",
    "    else:\n",
    "        temperature_data = session.query(func.min(Measurement.tobs),\\\n",
    "                                         func.avg(Measurement.tobs),\\\n",
    "                                         func.max(Measurement.tobs)).\\\n",
    "                                         filter(Measurement.date >= start).all()\n",
    "\n",
    "    session.close()\n",
    "\n",
    "    # Convert the query results to a list.\n",
    "    temperature_list = []\n",
    "    no_temperature_data = False\n",
    "    for min_temp, avg_temp, max_temp in temperature_data:\n",
    "        if min_temp == None or avg_temp == None or max_temp == None:\n",
    "            no_temperature_data = True\n",
    "        temperature_list.append(min_temp)\n",
    "        temperature_list.append(avg_temp)\n",
    "        temperature_list.append(max_temp)\n",
    "    # Return the JSON representation of dictionary.\n",
    "    if no_temperature_data == True:\n",
    "        return f\"No temperature data found for the given date range. Try another date range.\"\n",
    "    else:\n",
    "        return print(temperature_list)"
   ]
  },
  {
   "cell_type": "code",
   "execution_count": 10,
   "metadata": {},
   "outputs": [
    {
     "name": "stdout",
     "output_type": "stream",
     "text": [
      "[62.0, 70.81666666666666, 78.0]\n"
     ]
    }
   ],
   "source": [
    "start = \"2016-12-25\"\n",
    "end = \"2017-01-03\"\n",
    "determine_temps_for_date_range(start, end)"
   ]
  },
  {
   "cell_type": "code",
   "execution_count": 5,
   "metadata": {},
   "outputs": [],
   "source": [
    "@app.route(\"/api/v1.0/<start_date>\")\n",
    "def temp_start(start_date):\n",
    "\n",
    "    session = Session(engine)\n",
    "\n",
    "    temperature_data = session.query(func.min(Measurement.tobs),\\\n",
    "                                func.avg(Measurement.tobs),\\\n",
    "                                func.max(Measurement.tobs)).\\\n",
    "                                filter(Measurement.date >= start_date).all()\n",
    "\n",
    "    session.close()\n",
    "\n",
    "    temp_all = []\n",
    "    for min, avg, max in temperature_data:\n",
    "        temp_dict = {}\n",
    "        temp_dict[\"Min\"] = min\n",
    "        temp_dict[\"Average\"] = avg\n",
    "        temp_dict[\"Max\"] = max\n",
    "        temp_all.append(temp_dict)\n",
    "\n",
    "    return print(temp_all)\n",
    "\n",
    "@app.route(\"/api/v1.0/<start_date>/<end_date>\")\n",
    "def temp_start_end(start_date, end_date):\n",
    "    \n",
    "    session = Session(engine)\n",
    "    \n",
    "    temperature_data = session.query(func.min(Measurement.tobs),\\\n",
    "                                func.avg(Measurement.tobs),\\\n",
    "                                func.max(Measurement.tobs)).\\\n",
    "                                filter(Measurement.date >= start_date).\\\n",
    "                                filter(Measurement.date <= end_date).all()\n",
    "    session.close()\n",
    "\n",
    "    temp_all = []\n",
    "    for min,avg,max in temperature_data:\n",
    "        temp_dict = {}\n",
    "        temp_dict[\"Min\"] = min\n",
    "        temp_dict[\"Average\"] = avg\n",
    "        temp_dict[\"Max\"] = max\n",
    "        temp_all.append(temp_dict)\n",
    "\n",
    "    return print(temp_all)"
   ]
  },
  {
   "cell_type": "code",
   "execution_count": 6,
   "metadata": {},
   "outputs": [
    {
     "name": "stdout",
     "output_type": "stream",
     "text": [
      "[{'Min': 62.0, 'Average': 70.81666666666666, 'Max': 78.0}]\n"
     ]
    }
   ],
   "source": [
    "start_date = \"2016-12-25\"\n",
    "end_date = \"2017-01-03\"\n",
    "temp_start_end(start_date, end_date)"
   ]
  },
  {
   "cell_type": "code",
   "execution_count": 7,
   "metadata": {},
   "outputs": [
    {
     "name": "stdout",
     "output_type": "stream",
     "text": [
      "[{'Min': 58.0, 'Average': 74.06944444444444, 'Max': 87.0}]\n"
     ]
    }
   ],
   "source": [
    "temp_start(start_date)"
   ]
  },
  {
   "cell_type": "code",
   "execution_count": null,
   "metadata": {},
   "outputs": [],
   "source": []
  }
 ],
 "metadata": {
  "interpreter": {
   "hash": "cba033dbfb308e6ef82904202bf1aac94d65a342a0fa0b8648c060ba2fe22e31"
  },
  "kernelspec": {
   "display_name": "Python 3.9.7 64-bit (windows store)",
   "name": "python3"
  },
  "language_info": {
   "codemirror_mode": {
    "name": "ipython",
    "version": 3
   },
   "file_extension": ".py",
   "mimetype": "text/x-python",
   "name": "python",
   "nbconvert_exporter": "python",
   "pygments_lexer": "ipython3",
   "version": "3.9.7"
  },
  "orig_nbformat": 4
 },
 "nbformat": 4,
 "nbformat_minor": 2
}
